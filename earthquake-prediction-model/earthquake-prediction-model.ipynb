{
    "cells": [
        {
            "cell_type": "markdown",
            "id": "4a8d27a3",
            "metadata": {},
            "source": "# Earthquake Prediction Model with Machine Learning\n\nFollowed via [this](https://thecleverprogrammer.com/2020/11/12/earthquake-prediction-model-with-machine-learning/) link."
        },
        {
            "cell_type": "code",
            "execution_count": null,
            "id": "70f195d4",
            "metadata": {
                "trusted": true
            },
            "outputs": [],
            "source": "import numpy as np\nimport pandas as pd\nimport matplotlib.pyplot as plt"
        },
        {
            "cell_type": "code",
            "execution_count": null,
            "id": "2242e387",
            "metadata": {
                "trusted": true
            },
            "outputs": [],
            "source": "df = pd.read_csv(\"./data.csv\")\ndf"
        },
        {
            "cell_type": "code",
            "execution_count": null,
            "id": "a5f5e01c",
            "metadata": {
                "trusted": true
            },
            "outputs": [],
            "source": "df.columns"
        },
        {
            "cell_type": "markdown",
            "id": "e038dafa",
            "metadata": {},
            "source": "counting the number of Earthquakes"
        },
        {
            "cell_type": "code",
            "execution_count": null,
            "id": "64077d02",
            "metadata": {
                "trusted": true
            },
            "outputs": [],
            "source": "df['Type'].unique()\ndf['Type'].value_counts()"
        }
    ],
    "metadata": {
        "kernelspec": {
            "display_name": "venvDS_",
            "language": "python",
            "name": "venvds_"
        },
        "language_info": {
            "codemirror_mode": {
                "name": "ipython",
                "version": 3
            },
            "file_extension": ".py",
            "mimetype": "text/x-python",
            "name": "python",
            "nbconvert_exporter": "python",
            "pygments_lexer": "ipython3",
            "version": "3.12.4"
        }
    },
    "nbformat": 4,
    "nbformat_minor": 5
}